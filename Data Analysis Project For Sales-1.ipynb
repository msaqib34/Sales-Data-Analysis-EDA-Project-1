{
 "cells": [
  {
   "cell_type": "code",
   "execution_count": 1,
   "id": "722b9456",
   "metadata": {},
   "outputs": [],
   "source": [
    "import numpy as np\n",
    "import pandas as pd\n",
    "from matplotlib import pyplot as plt\n",
    "import seaborn as sns"
   ]
  },
  {
   "cell_type": "code",
   "execution_count": 2,
   "id": "c6441440",
   "metadata": {},
   "outputs": [],
   "source": [
    "df =pd.read_csv('Diwali Sales Data.csv' , encoding= 'unicode_escape')"
   ]
  },
  {
   "cell_type": "markdown",
   "id": "e2aed278",
   "metadata": {},
   "source": [
    "# First Data Cleaning"
   ]
  },
  {
   "cell_type": "code",
   "execution_count": 3,
   "id": "8eb4b98e",
   "metadata": {},
   "outputs": [],
   "source": [
    "df"
   ]
  },
  {
   "cell_type": "code",
   "execution_count": 4,
   "id": "0e695fcf",
   "metadata": {},
   "outputs": [],
   "source": [
    "df.head(5)"
   ]
  },
  {
   "cell_type": "code",
   "execution_count": 5,
   "id": "a785a8e0",
   "metadata": {},
   "outputs": [],
   "source": [
    "df.shape"
   ]
  },
  {
   "cell_type": "code",
   "execution_count": 6,
   "id": "9c97a3b5",
   "metadata": {},
   "outputs": [],
   "source": [
    "df.info()"
   ]
  },
  {
   "cell_type": "code",
   "execution_count": 7,
   "id": "e1564bd3",
   "metadata": {},
   "outputs": [],
   "source": [
    "df.drop(['Status','unnamed1'], axis=1, inplace=True)"
   ]
  },
  {
   "cell_type": "code",
   "execution_count": 8,
   "id": "605f31f8",
   "metadata": {},
   "outputs": [],
   "source": [
    "df.columns"
   ]
  },
  {
   "cell_type": "code",
   "execution_count": 9,
   "id": "f1083d28",
   "metadata": {},
   "outputs": [],
   "source": [
    "df.dropna(inplace=True)"
   ]
  },
  {
   "cell_type": "code",
   "execution_count": 10,
   "id": "86e2da63",
   "metadata": {},
   "outputs": [],
   "source": [
    "df.info()"
   ]
  },
  {
   "cell_type": "code",
   "execution_count": 11,
   "id": "dcf782f0",
   "metadata": {},
   "outputs": [],
   "source": [
    "df['Amount']=df['Amount'].astype(int)"
   ]
  },
  {
   "cell_type": "code",
   "execution_count": 12,
   "id": "cd75e920",
   "metadata": {},
   "outputs": [],
   "source": [
    "df['Amount'].dtype"
   ]
  },
  {
   "cell_type": "code",
   "execution_count": 13,
   "id": "3fcb9339",
   "metadata": {},
   "outputs": [],
   "source": [
    "df.describe()"
   ]
  },
  {
   "cell_type": "code",
   "execution_count": 14,
   "id": "06157c46",
   "metadata": {},
   "outputs": [],
   "source": [
    "df.head(2)"
   ]
  },
  {
   "cell_type": "code",
   "execution_count": 15,
   "id": "9cdf440f",
   "metadata": {},
   "outputs": [],
   "source": [
    "df.columns\n"
   ]
  },
  {
   "cell_type": "markdown",
   "id": "574dfe17",
   "metadata": {},
   "source": [
    "# EDA "
   ]
  },
  {
   "cell_type": "code",
   "execution_count": 16,
   "id": "67df7e21",
   "metadata": {},
   "outputs": [],
   "source": [
    "sns.countplot(x='Gender' , data =df )"
   ]
  },
  {
   "cell_type": "code",
   "execution_count": 17,
   "id": "7184fac4",
   "metadata": {},
   "outputs": [],
   "source": [
    "ax=sns.countplot(x='Gender' , data =df )\n",
    "for bars in ax.containers:\n",
    "    ax.bar_label(bars)\n",
    "    "
   ]
  },
  {
   "cell_type": "code",
   "execution_count": 18,
   "id": "0900d282",
   "metadata": {},
   "outputs": [],
   "source": [
    "df.columns"
   ]
  },
  {
   "cell_type": "code",
   "execution_count": 19,
   "id": "32f59543",
   "metadata": {},
   "outputs": [],
   "source": [
    "#plot the graph according to the gender buying power\n",
    "sales_gen=df.groupby(['Gender'], as_index=False) ['Amount'].sum().sort_values(by='Amount', ascending=False)\n",
    "b=sns.barplot(x='Gender' , y='Amount' , data=sales_gen)\n",
    "for bar in b.containers:\n",
    "    b.bar_label(bar)"
   ]
  },
  {
   "cell_type": "markdown",
   "id": "6b485c85",
   "metadata": {},
   "source": [
    "***As we can see in above graphs the more buyers are females than the men , Even the purchasing power of Females is greater than men.*** "
   ]
  },
  {
   "cell_type": "markdown",
   "id": "0f5130e3",
   "metadata": {},
   "source": [
    "**-----> Age**"
   ]
  },
  {
   "cell_type": "code",
   "execution_count": 20,
   "id": "fd917b56",
   "metadata": {},
   "outputs": [],
   "source": [
    "df.columns"
   ]
  },
  {
   "cell_type": "code",
   "execution_count": 21,
   "id": "a9767fe4",
   "metadata": {},
   "outputs": [],
   "source": [
    "sns.countplot(x='Age Group', hue='Gender', data=df)"
   ]
  },
  {
   "cell_type": "code",
   "execution_count": 22,
   "id": "c90a9fed",
   "metadata": {},
   "outputs": [],
   "source": [
    "#Total Age Group with Amount \n",
    "\n",
    "age_grp=df.groupby(['Age Group'], as_index=False)['Amount'].sum().sort_values(by='Amount', ascending=False)\n",
    "sns.barplot(x='Age Group' , y='Amount', data=age_grp)"
   ]
  },
  {
   "cell_type": "markdown",
   "id": "4c8451a4",
   "metadata": {},
   "source": [
    "**As we can see that from above graphs buyers of Age Group (26-35) purcheses more than others**"
   ]
  },
  {
   "cell_type": "markdown",
   "id": "75ab8861",
   "metadata": {},
   "source": [
    "**----> State**"
   ]
  },
  {
   "cell_type": "code",
   "execution_count": 23,
   "id": "1aa89f14",
   "metadata": {},
   "outputs": [],
   "source": [
    "df.columns"
   ]
  },
  {
   "cell_type": "code",
   "execution_count": 24,
   "id": "97d8db58",
   "metadata": {},
   "outputs": [],
   "source": [
    "#Check the number of orders according to the state , and will show First 10 states\n",
    "state_orders=df.groupby(['State'], as_index=False)['Orders'].sum().sort_values(by='Orders' , ascending=False).head(10)\n",
    "\n",
    "#set the width of graph otherwise state names overlap and reduce the readability\n",
    "sns.set(rc={'figure.figsize':(15,5)})\n",
    "\n",
    "sns.barplot(x='State' , y='Orders' , data=state_orders)"
   ]
  },
  {
   "cell_type": "code",
   "execution_count": 25,
   "id": "b4d24eba",
   "metadata": {},
   "outputs": [],
   "source": [
    "states_Tsales=df.groupby(['State'], as_index=False)['Amount'].sum().sort_values(by='Amount' , ascending=False).head(10)\n",
    "\n",
    "sns.set(rc={'figure.figsize':(15,5)})\n",
    "sns.barplot(x='State', y='Amount' , data=states_Tsales)"
   ]
  },
  {
   "cell_type": "markdown",
   "id": "bb9183ad",
   "metadata": {},
   "source": [
    "**From above graphs we can obseve that most orders and toatal amount of is in these states Uttar Pardesh, Maharashta , Karnataka**"
   ]
  },
  {
   "cell_type": "markdown",
   "id": "933577c9",
   "metadata": {},
   "source": [
    "**--->Marital_Status**"
   ]
  },
  {
   "cell_type": "code",
   "execution_count": 26,
   "id": "d3e6b40b",
   "metadata": {},
   "outputs": [],
   "source": [
    "c=sns.countplot(x='Marital_Status' , data= df)\n",
    "sns.set(rc={'figure.figsize':(7,5)})\n",
    "for bar in c.containers:\n",
    "    c.bar_label(bar)"
   ]
  },
  {
   "cell_type": "code",
   "execution_count": 27,
   "id": "59d17cd9",
   "metadata": {},
   "outputs": [],
   "source": [
    "Marital=df.groupby(['Marital_Status' , 'Gender'], as_index=False)['Amount'].sum().sort_values(by='Amount', ascending=False)\n",
    "sns.set(rc={'figure.figsize':(7,5)})\n",
    "sns.barplot(x='Marital_Status' , y='Amount' , hue='Gender' ,data=Marital)\n"
   ]
  },
  {
   "cell_type": "markdown",
   "id": "7af64443",
   "metadata": {},
   "source": [
    "** From Above graphs we can conclude that Marital pepole are more buyers and there purchasing power is more than unmarried group**"
   ]
  },
  {
   "cell_type": "markdown",
   "id": "fd3515ed",
   "metadata": {},
   "source": [
    "**--->Occupation**"
   ]
  },
  {
   "cell_type": "code",
   "execution_count": 28,
   "id": "3ef78aa7",
   "metadata": {},
   "outputs": [],
   "source": [
    "df.columns"
   ]
  },
  {
   "cell_type": "code",
   "execution_count": 29,
   "id": "f9af5f0d",
   "metadata": {},
   "outputs": [],
   "source": [
    "d=sns.countplot(x='Occupation' ,data=df)\n",
    "sns.set(rc={'figure.figsize':(20,5)})\n",
    "for bar in d.containers:\n",
    "    d.bar_label(bar)"
   ]
  },
  {
   "cell_type": "code",
   "execution_count": 30,
   "id": "695ed981",
   "metadata": {},
   "outputs": [],
   "source": [
    "sales_by_Occupation=df.groupby(['Occupation'], as_index=False)['Amount'].sum().sort_values(by='Amount' , ascending=False)\n",
    "sns.set(rc={'figure.figsize':(20,5)})\n",
    "sns.barplot(x='Occupation',y='Amount', data=sales_by_Occupation)"
   ]
  },
  {
   "cell_type": "markdown",
   "id": "b087a20d",
   "metadata": {},
   "source": [
    "**From above graphs we can see that Health care sector buy the most items but IT sector buyers has purchase power more heigher than Health care** "
   ]
  },
  {
   "cell_type": "code",
   "execution_count": 31,
   "id": "f0216b32",
   "metadata": {},
   "outputs": [],
   "source": [
    "df.columns"
   ]
  },
  {
   "cell_type": "markdown",
   "id": "8c965571",
   "metadata": {},
   "source": [
    "**---> Products that sells the most**"
   ]
  },
  {
   "cell_type": "code",
   "execution_count": 32,
   "id": "83d60282",
   "metadata": {},
   "outputs": [],
   "source": [
    "sns.set(rc={'figure.figsize':(25,10)})\n",
    "sns.countplot(x='Product_Category' , data=df)\n"
   ]
  },
  {
   "cell_type": "code",
   "execution_count": 33,
   "id": "f7ee03c0",
   "metadata": {},
   "outputs": [],
   "source": [
    "Product_Cate=df.groupby(['Product_Category'], as_index=False)['Amount'].sum().sort_values(by='Amount', ascending=False).head(10)\n",
    "sns.set({'figure.figsize':(20,5)})\n",
    "sns.barplot(x='Product_Category',y='Amount', data=Product_Cate)\n"
   ]
  },
  {
   "cell_type": "code",
   "execution_count": 34,
   "id": "f1b23077",
   "metadata": {},
   "outputs": [],
   "source": [
    "pro_id=df.groupby(['Product_ID'], as_index=False)['Orders'].sum().sort_values(by='Orders', ascending=False).head(10)\n",
    "sns.set({'figure.figsize':(20,5)})\n",
    "sns.barplot(x='Product_ID', y='Orders', data=pro_id)"
   ]
  },
  {
   "cell_type": "code",
   "execution_count": 35,
   "id": "267ef283",
   "metadata": {},
   "outputs": [],
   "source": [
    "#same thing as above \n",
    "fig1,ax1=plt.subplots(figsize=(12,7))\n",
    "df.groupby('Product_ID')['Orders'].sum().nlargest(10).sort_values(ascending=False).plot(kind='bar')"
   ]
  },
  {
   "cell_type": "markdown",
   "id": "6069832d",
   "metadata": {},
   "source": [
    "# Conclusion "
   ]
  },
  {
   "cell_type": "markdown",
   "id": "197f5fce",
   "metadata": {},
   "source": [
    "**Married women age group 26-35 yrs from UP,  Maharastra and Karnataka working in IT, Healthcare and Aviation are more likely to buy products from Food, Clothing and Electronics category**"
   ]
  }
 ],
 "metadata": {
  "kernelspec": {
   "display_name": "Python 3 (ipykernel)",
   "language": "python",
   "name": "python3"
  },
  "language_info": {
   "codemirror_mode": {
    "name": "ipython",
    "version": 3
   },
   "file_extension": ".py",
   "mimetype": "text/x-python",
   "name": "python",
   "nbconvert_exporter": "python",
   "pygments_lexer": "ipython3",
   "version": "3.11.3"
  }
 },
 "nbformat": 4,
 "nbformat_minor": 5
}
